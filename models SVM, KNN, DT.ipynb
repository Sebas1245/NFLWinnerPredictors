{
 "cells": [
  {
   "cell_type": "code",
   "execution_count": 1,
   "id": "43b70a2c",
   "metadata": {},
   "outputs": [],
   "source": [
    "import numpy as np\n",
    "import pandas as pd\n",
    "import seaborn as sns\n",
    "import matplotlib.pyplot as plt\n",
    "from itertools import combinations\n",
    "\n",
    "\n",
    "from sklearn.model_selection import train_test_split\n",
    "from sklearn.model_selection import GridSearchCV\n",
    "from sklearn.model_selection import LeaveOneOut\n",
    "from sklearn.model_selection import cross_val_score #lo deberia de usar?\n",
    "from sklearn.metrics import confusion_matrix\n",
    "from sklearn.svm import LinearSVC #Linear Support Vector Machines (SVM), should be faster.\n",
    "from sklearn.svm import SVC #Support Vector Machines (SVM)\n",
    "from sklearn.tree import DecisionTreeClassifier #Decision Tree (DT)\n",
    "from sklearn.neighbors import KNeighborsClassifier #K Nearest Neighbors (KNN)\n",
    "import warnings\n",
    "warnings.filterwarnings('ignore', category = UserWarning)\n"
   ]
  },
  {
   "cell_type": "code",
   "execution_count": 2,
   "id": "ba5fb7aa",
   "metadata": {},
   "outputs": [],
   "source": [
    "\n",
    "def selectBestModel(models,names,*datasets):\n",
    "    xtrain, xtest, ytrain, ytest = datasets\n",
    "    modelsScores = [model.score(xtest,ytest) for model in models]\n",
    "    indexbestScore = modelsScores.index(max(modelsScores))\n",
    "    bestModel = models[indexbestScore]\n",
    "    bestModel.fit(xtrain,ytrain)\n",
    "    return bestModel, names[indexbestScore], bestModel.score(xtrain,ytrain), bestModel.score(xtest,ytest)\n",
    "\n",
    "#['accuracy','precision','recall','roc_auc']\n",
    "def modelling(typeModel,cv,n,*datasets):\n",
    "    xtrain, xtest, ytrain, ytest = datasets\n",
    "    if typeModel == 'SVM':\n",
    "        svm = SVC()\n",
    "        paramGridSVM = {'kernel':['linear','rbf','poly'], 'C':np.arange(1,n+1,0.1), \n",
    "                        'gamma':['scale','auto'], 'degree':np.arange(1,3+1)}\n",
    "        model = GridSearchCV(estimator = svm, param_grid = paramGridSVM, \n",
    "                             scoring = 'accuracy', cv = cv, n_jobs = -1)\n",
    "    \n",
    "    elif typeModel == 'SVMlinear':\n",
    "        svmlinear = LinearSVC()\n",
    "        paramGridSVMlinear = {'penalty':['l1','l2'], 'loss':['hinge','squared_hinge'], 'dual':[False],\n",
    "                             'C':np.arange(1,n+1,0.1), 'max_iter':[1000]}\n",
    "        model = GridSearchCV(estimator = svmlinear, param_grid = paramGridSVMlinear,\n",
    "                            scoring = 'accuracy', cv = cv, n_jobs = -1)\n",
    "        \n",
    "    elif typeModel == 'KNN':\n",
    "        knn = KNeighborsClassifier()\n",
    "        paramGridKNN = {'weights':['uniform','distance'], 'metric':['euclidean','manhattan','chebyshev','minkowski'], \n",
    "         'n_neighbors':np.arange(1,n+1)}\n",
    "        model = GridSearchCV(estimator = knn, param_grid = paramGridKNN, \n",
    "                             scoring = 'accuracy', cv = cv, n_jobs = -1)\n",
    "    \n",
    "    elif typeModel == 'DT':\n",
    "        dt = DecisionTreeClassifier()\n",
    "        paramGridDT = {'criterion':['gini','entropy']}\n",
    "        model = GridSearchCV(estimator = dt, param_grid = paramGridDT, \n",
    "                             scoring = 'accuracy', cv = cv, n_jobs = -1)\n",
    "    \n",
    "    #Fit the model.\n",
    "    model.fit(xtrain,ytrain)\n",
    "    #Best model\n",
    "    return model"
   ]
  },
  {
   "cell_type": "code",
   "execution_count": 3,
   "id": "a8b580f2",
   "metadata": {},
   "outputs": [],
   "source": [
    "spreads_and_scores = pd.read_csv('spreads_and_scores_clean.csv')"
   ]
  },
  {
   "cell_type": "code",
   "execution_count": 4,
   "id": "af096350",
   "metadata": {},
   "outputs": [
    {
     "data": {
      "text/html": [
       "<div>\n",
       "<style scoped>\n",
       "    .dataframe tbody tr th:only-of-type {\n",
       "        vertical-align: middle;\n",
       "    }\n",
       "\n",
       "    .dataframe tbody tr th {\n",
       "        vertical-align: top;\n",
       "    }\n",
       "\n",
       "    .dataframe thead th {\n",
       "        text-align: right;\n",
       "    }\n",
       "</style>\n",
       "<table border=\"1\" class=\"dataframe\">\n",
       "  <thead>\n",
       "    <tr style=\"text-align: right;\">\n",
       "      <th></th>\n",
       "      <th>schedule_season</th>\n",
       "      <th>schedule_week</th>\n",
       "      <th>schedule_playoff</th>\n",
       "      <th>team_home</th>\n",
       "      <th>team_away</th>\n",
       "      <th>spread_favorite</th>\n",
       "      <th>over_under_line</th>\n",
       "      <th>stadium</th>\n",
       "      <th>weather_temperature</th>\n",
       "      <th>weather_wind_mph</th>\n",
       "      <th>weather_humidity</th>\n",
       "      <th>team_favorite_away</th>\n",
       "      <th>team_favorite_home</th>\n",
       "      <th>total_score</th>\n",
       "      <th>did_home_team_win</th>\n",
       "      <th>favored_level</th>\n",
       "    </tr>\n",
       "  </thead>\n",
       "  <tbody>\n",
       "    <tr>\n",
       "      <th>0</th>\n",
       "      <td>0</td>\n",
       "      <td>1</td>\n",
       "      <td>0</td>\n",
       "      <td>0</td>\n",
       "      <td>0</td>\n",
       "      <td>-3.0</td>\n",
       "      <td>35.0</td>\n",
       "      <td>0</td>\n",
       "      <td>64.0</td>\n",
       "      <td>8.0</td>\n",
       "      <td>66.0</td>\n",
       "      <td>1</td>\n",
       "      <td>0</td>\n",
       "      <td>24.0</td>\n",
       "      <td>1</td>\n",
       "      <td>1</td>\n",
       "    </tr>\n",
       "    <tr>\n",
       "      <th>1</th>\n",
       "      <td>0</td>\n",
       "      <td>1</td>\n",
       "      <td>0</td>\n",
       "      <td>1</td>\n",
       "      <td>1</td>\n",
       "      <td>-1.0</td>\n",
       "      <td>34.0</td>\n",
       "      <td>1</td>\n",
       "      <td>72.0</td>\n",
       "      <td>9.0</td>\n",
       "      <td>81.0</td>\n",
       "      <td>1</td>\n",
       "      <td>0</td>\n",
       "      <td>29.0</td>\n",
       "      <td>0</td>\n",
       "      <td>0</td>\n",
       "    </tr>\n",
       "    <tr>\n",
       "      <th>2</th>\n",
       "      <td>0</td>\n",
       "      <td>1</td>\n",
       "      <td>0</td>\n",
       "      <td>2</td>\n",
       "      <td>2</td>\n",
       "      <td>-6.0</td>\n",
       "      <td>35.0</td>\n",
       "      <td>2</td>\n",
       "      <td>65.0</td>\n",
       "      <td>5.0</td>\n",
       "      <td>77.0</td>\n",
       "      <td>1</td>\n",
       "      <td>0</td>\n",
       "      <td>18.0</td>\n",
       "      <td>1</td>\n",
       "      <td>1</td>\n",
       "    </tr>\n",
       "    <tr>\n",
       "      <th>3</th>\n",
       "      <td>0</td>\n",
       "      <td>1</td>\n",
       "      <td>0</td>\n",
       "      <td>3</td>\n",
       "      <td>3</td>\n",
       "      <td>-3.0</td>\n",
       "      <td>42.0</td>\n",
       "      <td>3</td>\n",
       "      <td>82.0</td>\n",
       "      <td>10.0</td>\n",
       "      <td>58.0</td>\n",
       "      <td>0</td>\n",
       "      <td>1</td>\n",
       "      <td>41.0</td>\n",
       "      <td>0</td>\n",
       "      <td>1</td>\n",
       "    </tr>\n",
       "    <tr>\n",
       "      <th>4</th>\n",
       "      <td>0</td>\n",
       "      <td>1</td>\n",
       "      <td>0</td>\n",
       "      <td>4</td>\n",
       "      <td>4</td>\n",
       "      <td>-9.0</td>\n",
       "      <td>38.0</td>\n",
       "      <td>4</td>\n",
       "      <td>66.0</td>\n",
       "      <td>11.0</td>\n",
       "      <td>70.0</td>\n",
       "      <td>0</td>\n",
       "      <td>1</td>\n",
       "      <td>61.0</td>\n",
       "      <td>0</td>\n",
       "      <td>2</td>\n",
       "    </tr>\n",
       "    <tr>\n",
       "      <th>...</th>\n",
       "      <td>...</td>\n",
       "      <td>...</td>\n",
       "      <td>...</td>\n",
       "      <td>...</td>\n",
       "      <td>...</td>\n",
       "      <td>...</td>\n",
       "      <td>...</td>\n",
       "      <td>...</td>\n",
       "      <td>...</td>\n",
       "      <td>...</td>\n",
       "      <td>...</td>\n",
       "      <td>...</td>\n",
       "      <td>...</td>\n",
       "      <td>...</td>\n",
       "      <td>...</td>\n",
       "      <td>...</td>\n",
       "    </tr>\n",
       "    <tr>\n",
       "      <th>10438</th>\n",
       "      <td>41</td>\n",
       "      <td>19</td>\n",
       "      <td>1</td>\n",
       "      <td>26</td>\n",
       "      <td>19</td>\n",
       "      <td>-4.0</td>\n",
       "      <td>48.5</td>\n",
       "      <td>51</td>\n",
       "      <td>35.0</td>\n",
       "      <td>0.0</td>\n",
       "      <td>43.0</td>\n",
       "      <td>0</td>\n",
       "      <td>1</td>\n",
       "      <td>35.0</td>\n",
       "      <td>0</td>\n",
       "      <td>1</td>\n",
       "    </tr>\n",
       "    <tr>\n",
       "      <th>10439</th>\n",
       "      <td>41</td>\n",
       "      <td>19</td>\n",
       "      <td>1</td>\n",
       "      <td>3</td>\n",
       "      <td>26</td>\n",
       "      <td>-2.5</td>\n",
       "      <td>54.0</td>\n",
       "      <td>3</td>\n",
       "      <td>35.0</td>\n",
       "      <td>6.0</td>\n",
       "      <td>54.0</td>\n",
       "      <td>0</td>\n",
       "      <td>1</td>\n",
       "      <td>78.0</td>\n",
       "      <td>1</td>\n",
       "      <td>0</td>\n",
       "    </tr>\n",
       "    <tr>\n",
       "      <th>10440</th>\n",
       "      <td>41</td>\n",
       "      <td>19</td>\n",
       "      <td>1</td>\n",
       "      <td>14</td>\n",
       "      <td>14</td>\n",
       "      <td>-3.0</td>\n",
       "      <td>48.0</td>\n",
       "      <td>48</td>\n",
       "      <td>50.0</td>\n",
       "      <td>11.0</td>\n",
       "      <td>69.0</td>\n",
       "      <td>0</td>\n",
       "      <td>1</td>\n",
       "      <td>57.0</td>\n",
       "      <td>0</td>\n",
       "      <td>1</td>\n",
       "    </tr>\n",
       "    <tr>\n",
       "      <th>10441</th>\n",
       "      <td>41</td>\n",
       "      <td>20</td>\n",
       "      <td>1</td>\n",
       "      <td>3</td>\n",
       "      <td>19</td>\n",
       "      <td>-7.0</td>\n",
       "      <td>54.5</td>\n",
       "      <td>3</td>\n",
       "      <td>41.0</td>\n",
       "      <td>4.0</td>\n",
       "      <td>41.0</td>\n",
       "      <td>0</td>\n",
       "      <td>1</td>\n",
       "      <td>51.0</td>\n",
       "      <td>0</td>\n",
       "      <td>1</td>\n",
       "    </tr>\n",
       "    <tr>\n",
       "      <th>10442</th>\n",
       "      <td>41</td>\n",
       "      <td>20</td>\n",
       "      <td>1</td>\n",
       "      <td>4</td>\n",
       "      <td>7</td>\n",
       "      <td>-3.5</td>\n",
       "      <td>46.0</td>\n",
       "      <td>87</td>\n",
       "      <td>72.0</td>\n",
       "      <td>0.0</td>\n",
       "      <td>0.0</td>\n",
       "      <td>0</td>\n",
       "      <td>1</td>\n",
       "      <td>37.0</td>\n",
       "      <td>1</td>\n",
       "      <td>1</td>\n",
       "    </tr>\n",
       "  </tbody>\n",
       "</table>\n",
       "<p>10443 rows × 16 columns</p>\n",
       "</div>"
      ],
      "text/plain": [
       "       schedule_season  schedule_week  schedule_playoff  team_home  team_away  \\\n",
       "0                    0              1                 0          0          0   \n",
       "1                    0              1                 0          1          1   \n",
       "2                    0              1                 0          2          2   \n",
       "3                    0              1                 0          3          3   \n",
       "4                    0              1                 0          4          4   \n",
       "...                ...            ...               ...        ...        ...   \n",
       "10438               41             19                 1         26         19   \n",
       "10439               41             19                 1          3         26   \n",
       "10440               41             19                 1         14         14   \n",
       "10441               41             20                 1          3         19   \n",
       "10442               41             20                 1          4          7   \n",
       "\n",
       "       spread_favorite  over_under_line  stadium  weather_temperature  \\\n",
       "0                 -3.0             35.0        0                 64.0   \n",
       "1                 -1.0             34.0        1                 72.0   \n",
       "2                 -6.0             35.0        2                 65.0   \n",
       "3                 -3.0             42.0        3                 82.0   \n",
       "4                 -9.0             38.0        4                 66.0   \n",
       "...                ...              ...      ...                  ...   \n",
       "10438             -4.0             48.5       51                 35.0   \n",
       "10439             -2.5             54.0        3                 35.0   \n",
       "10440             -3.0             48.0       48                 50.0   \n",
       "10441             -7.0             54.5        3                 41.0   \n",
       "10442             -3.5             46.0       87                 72.0   \n",
       "\n",
       "       weather_wind_mph  weather_humidity  team_favorite_away  \\\n",
       "0                   8.0              66.0                   1   \n",
       "1                   9.0              81.0                   1   \n",
       "2                   5.0              77.0                   1   \n",
       "3                  10.0              58.0                   0   \n",
       "4                  11.0              70.0                   0   \n",
       "...                 ...               ...                 ...   \n",
       "10438               0.0              43.0                   0   \n",
       "10439               6.0              54.0                   0   \n",
       "10440              11.0              69.0                   0   \n",
       "10441               4.0              41.0                   0   \n",
       "10442               0.0               0.0                   0   \n",
       "\n",
       "       team_favorite_home  total_score  did_home_team_win  favored_level  \n",
       "0                       0         24.0                  1              1  \n",
       "1                       0         29.0                  0              0  \n",
       "2                       0         18.0                  1              1  \n",
       "3                       1         41.0                  0              1  \n",
       "4                       1         61.0                  0              2  \n",
       "...                   ...          ...                ...            ...  \n",
       "10438                   1         35.0                  0              1  \n",
       "10439                   1         78.0                  1              0  \n",
       "10440                   1         57.0                  0              1  \n",
       "10441                   1         51.0                  0              1  \n",
       "10442                   1         37.0                  1              1  \n",
       "\n",
       "[10443 rows x 16 columns]"
      ]
     },
     "execution_count": 4,
     "metadata": {},
     "output_type": "execute_result"
    }
   ],
   "source": [
    "# favored level will be 0 if slightly favored, 1 if mediumly favored or 2 if favored heavily\n",
    "def determine_spread_favorite_lvl(spread):\n",
    "    if spread < 3:\n",
    "        return 0\n",
    "    elif spread >= 3 and spread <=7:\n",
    "        return 1\n",
    "    else:\n",
    "        return 2\n",
    "spreads_and_scores['favored_level'] = spreads_and_scores.apply(lambda row: determine_spread_favorite_lvl(abs(row['spread_favorite'])), axis=1)\n",
    "spreads_and_scores"
   ]
  },
  {
   "cell_type": "code",
   "execution_count": 5,
   "id": "fc7ef2ff",
   "metadata": {},
   "outputs": [],
   "source": [
    "#Select features and labels\n",
    "features = spreads_and_scores[['team_favorite_home', 'favored_level']]\n",
    "labels = spreads_and_scores['did_home_team_win']"
   ]
  },
  {
   "cell_type": "code",
   "execution_count": 6,
   "id": "342413fa",
   "metadata": {},
   "outputs": [],
   "source": [
    "#We are going to make different sub-datasets.\n",
    "\n",
    "#Pareto 80-20\n",
    "train_features1, test_features1, train_labels1, test_labels1 = train_test_split(features, labels, test_size=0.2, random_state=5)\n",
    "\n",
    "#70-30\n",
    "train_features2, test_features2, train_labels2, test_labels2 = train_test_split(features, labels, test_size=0.3, random_state=5)\n",
    "\n",
    "#75-25\n",
    "train_features3, test_features3, train_labels3, test_labels3 = train_test_split(features, labels, test_size=0.25, random_state=5)\n"
   ]
  },
  {
   "cell_type": "code",
   "execution_count": 7,
   "id": "104294a5",
   "metadata": {},
   "outputs": [],
   "source": [
    "#%%time\n",
    "knn1_3cv = modelling('KNN',3,15,train_features1, test_features1, train_labels1, test_labels1)\n",
    "knn1_5cv = modelling('KNN',5,15,train_features1, test_features1, train_labels1, test_labels1)\n",
    "knn1_10cv = modelling('KNN',10,15,train_features1, test_features1, train_labels1, test_labels1)\n",
    "#knn1_loocv = modelling('KNN',LeaveOneOut(),15,train_features1, test_features1, train_labels1, test_labels1)"
   ]
  },
  {
   "cell_type": "code",
   "execution_count": 8,
   "id": "cfd12e26",
   "metadata": {},
   "outputs": [
    {
     "name": "stdout",
     "output_type": "stream",
     "text": [
      "El mejor es KNN D1 5CV con un accuracy en el training de 0.6497486234139335 y con un accuracy en el testing de 0.6615605552896122\n"
     ]
    }
   ],
   "source": [
    "#%%time\n",
    "#modelsNamesKNN1 = ['KNN D1 '+ i for i in ('3CV','5CV','10CV','LOOCV')]\n",
    "#modelsKNN1 = [knn1_3cv, knn1_5cv, knn1_10cv, knn1_loocv]\n",
    "modelsNamesKNN1 = ['KNN D1 '+ i for i in ('3CV','5CV','10CV')]\n",
    "modelsKNN1 = [knn1_3cv, knn1_5cv, knn1_10cv]\n",
    "bestModelKNN1, namebestModelKNN1, bestModelKNN1scoretrain, bestModelKNN1scoretest = selectBestModel(modelsKNN1,modelsNamesKNN1, train_features1, test_features1, train_labels1, test_labels1)\n",
    "print(\"El mejor es {} con un accuracy en el training de {} y con un accuracy en el testing de {}\".format(namebestModelKNN1,bestModelKNN1scoretrain, bestModelKNN1scoretest))"
   ]
  },
  {
   "cell_type": "code",
   "execution_count": 9,
   "id": "db1e7b38",
   "metadata": {},
   "outputs": [],
   "source": [
    "#%%time\n",
    "knn2_3cv = modelling('KNN',3,15,train_features2, test_features2, train_labels2, test_labels2)\n",
    "knn2_5cv = modelling('KNN',5,15,train_features2, test_features2, train_labels2, test_labels2)\n",
    "knn2_10cv = modelling('KNN',10,15,train_features2, test_features2, train_labels2, test_labels2)\n",
    "#knn2_loocv = modelling('KNN',LeaveOneOut(),15,train_features2, test_features2, train_labels2, test_labels2)"
   ]
  },
  {
   "cell_type": "code",
   "execution_count": 10,
   "id": "78818db4",
   "metadata": {},
   "outputs": [
    {
     "name": "stdout",
     "output_type": "stream",
     "text": [
      "El mejor es KNN D2 5CV con un accuracy en el training de 0.5961696306429548 y con un accuracy en el testing de 0.5965528247685924\n"
     ]
    }
   ],
   "source": [
    "#%%time\n",
    "#modelsNamesKNN2 = ['KNN D2 '+ i for i in ('3CV','5CV','10CV','LOOCV')]\n",
    "#modelsKNN2 = [knn2_3cv, knn2_5cv, knn2_10cv, knn2_loocv]\n",
    "modelsNamesKNN2 = ['KNN D2 '+ i for i in ('3CV','5CV','10CV')]\n",
    "modelsKNN2 = [knn2_3cv, knn2_5cv, knn2_10cv]\n",
    "bestModelKNN2, namebestModelKNN2, bestModelKNN2scoretrain, bestModelKNN2scoretest = selectBestModel(modelsKNN2,modelsNamesKNN2, train_features2, test_features2, train_labels2, test_labels2)\n",
    "print(\"El mejor es {} con un accuracy en el training de {} y con un accuracy en el testing de {}\".format(namebestModelKNN2,bestModelKNN2scoretrain, bestModelKNN2scoretest))"
   ]
  },
  {
   "cell_type": "code",
   "execution_count": 11,
   "id": "6ee1d733",
   "metadata": {},
   "outputs": [],
   "source": [
    "#%%time\n",
    "knn3_3cv = modelling('KNN',3,15,train_features3, test_features3, train_labels3, test_labels3)\n",
    "knn3_5cv = modelling('KNN',5,15,train_features3, test_features3, train_labels3, test_labels3)\n",
    "knn3_10cv = modelling('KNN',10,15,train_features3, test_features3, train_labels3, test_labels3)\n",
    "#knn3_loocv = modelling('KNN',LeaveOneOut(),15,train_features3, test_features3, train_labels3, test_labels3)"
   ]
  },
  {
   "cell_type": "code",
   "execution_count": 12,
   "id": "6406634c",
   "metadata": {},
   "outputs": [
    {
     "name": "stdout",
     "output_type": "stream",
     "text": [
      "El mejor es KNN D3 10CV con un accuracy en el training de 0.6502808988764045 y con un accuracy en el testing de 0.669858291842206\n"
     ]
    }
   ],
   "source": [
    "#%%time\n",
    "#modelsNamesKNN3 = ['KNN D3 '+ i for i in ('3CV','5CV','10CV','LOOCV')]\n",
    "#modelsKNN3 = [knn3_3cv, knn3_5cv, knn3_10cv, knn3_loocv]\n",
    "modelsNamesKNN3 = ['KNN D3 '+ i for i in ('3CV','5CV','10CV')]\n",
    "modelsKNN3 = [knn3_3cv, knn3_5cv, knn3_10cv]\n",
    "bestModelKNN3, namebestModelKNN3, bestModelKNN3scoretrain, bestModelKNN3scoretest = selectBestModel(modelsKNN3,modelsNamesKNN3, train_features3, test_features3, train_labels3, test_labels3)\n",
    "print(\"El mejor es {} con un accuracy en el training de {} y con un accuracy en el testing de {}\".format(namebestModelKNN3,bestModelKNN3scoretrain, bestModelKNN3scoretest))"
   ]
  },
  {
   "cell_type": "code",
   "execution_count": 13,
   "id": "3f8ad6ef",
   "metadata": {},
   "outputs": [],
   "source": [
    "#%%time\n",
    "dt1_3cv = modelling('DT',3,0,train_features1, test_features1, train_labels1, test_labels1)\n",
    "dt1_5cv = modelling('DT',5,0,train_features1, test_features1, train_labels1, test_labels1)\n",
    "dt1_10cv = modelling('DT',10,0,train_features1, test_features1, train_labels1, test_labels1)\n",
    "#dt1_loocv = modelling('DT',LeaveOneOut(),0,train_features1, test_features1, train_labels1, test_labels1)"
   ]
  },
  {
   "cell_type": "code",
   "execution_count": 14,
   "id": "9e45048e",
   "metadata": {},
   "outputs": [
    {
     "name": "stdout",
     "output_type": "stream",
     "text": [
      "El mejor es DT D1 3CV con un accuracy en el training de 0.6548958582714867 y con un accuracy en el testing de 0.6692197223551939\n"
     ]
    }
   ],
   "source": [
    "#%%time\n",
    "#modelsNamesDT1 = ['DT D1 '+ i for i in ('3CV','5CV','10CV','LOOCV')]\n",
    "#modelsDT1 = [dt1_3cv, dt1_5cv, dt1_10cv, dt1_loocv]\n",
    "modelsNamesDT1 = ['DT D1 '+ i for i in ('3CV','5CV','10CV')]\n",
    "modelsDT1 = [dt1_3cv, dt1_5cv, dt1_10cv]\n",
    "bestModelDT1, namebestModelDT1, bestModelDT1scoretrain, bestModelDT1scoretest = selectBestModel(modelsDT1,modelsNamesDT1, train_features1, test_features1, train_labels1, test_labels1)\n",
    "print(\"El mejor es {} con un accuracy en el training de {} y con un accuracy en el testing de {}\".format(namebestModelDT1,bestModelDT1scoretrain, bestModelDT1scoretest))"
   ]
  },
  {
   "cell_type": "code",
   "execution_count": 15,
   "id": "27dfa47c",
   "metadata": {},
   "outputs": [],
   "source": [
    "#%%time\n",
    "dt2_3cv = modelling('DT',3,0,train_features2, test_features2, train_labels2, test_labels2)\n",
    "dt2_5cv = modelling('DT',5,0,train_features2, test_features2, train_labels2, test_labels2)\n",
    "dt2_10cv = modelling('DT',10,0,train_features2, test_features2, train_labels2, test_labels2)\n",
    "#dt2_loocv = modelling('DT',LeaveOneOut(),0,train_features2, test_features2, train_labels2, test_labels2)"
   ]
  },
  {
   "cell_type": "code",
   "execution_count": 16,
   "id": "7a70ceac",
   "metadata": {},
   "outputs": [
    {
     "name": "stdout",
     "output_type": "stream",
     "text": [
      "El mejor es DT D2 3CV con un accuracy en el training de 0.6518467852257182 y con un accuracy en el testing de 0.6715608043408873\n"
     ]
    }
   ],
   "source": [
    "#%%time\n",
    "#modelsNamesDT2 = ['DT D2 '+ i for i in ('3CV','5CV','10CV','LOOCV')]\n",
    "#modelsDT2 = [dt2_3cv, dt2_5cv, dt2_10cv, dt2_loocv]\n",
    "modelsNamesDT2 = ['DT D2 '+ i for i in ('3CV','5CV','10CV')]\n",
    "modelsDT2 = [dt2_3cv, dt2_5cv, dt2_10cv]\n",
    "bestModelDT2, namebestModelDT2, bestModelDT2scoretrain, bestModelDT2scoretest = selectBestModel(modelsDT2,modelsNamesDT2, train_features2, test_features2, train_labels2, test_labels2)\n",
    "print(\"El mejor es {} con un accuracy en el training de {} y con un accuracy en el testing de {}\".format(namebestModelDT2,bestModelDT2scoretrain, bestModelDT2scoretest))"
   ]
  },
  {
   "cell_type": "code",
   "execution_count": 17,
   "id": "c496499c",
   "metadata": {},
   "outputs": [],
   "source": [
    "#%%time\n",
    "dt3_3cv = modelling('DT',3,0,train_features3, test_features3, train_labels3, test_labels3)\n",
    "dt3_5cv = modelling('DT',5,0,train_features3, test_features3, train_labels3, test_labels3)\n",
    "dt3_10cv = modelling('DT',10,0,train_features3, test_features3, train_labels3, test_labels3)\n",
    "#dt3_loocv = modelling('DT',LeaveOneOut(),0,train_features3, test_features3, train_labels3, test_labels3)"
   ]
  },
  {
   "cell_type": "code",
   "execution_count": 18,
   "id": "1a82efb7",
   "metadata": {},
   "outputs": [
    {
     "name": "stdout",
     "output_type": "stream",
     "text": [
      "El mejor es DT D3 3CV con un accuracy en el training de 0.6533452502553626 y con un accuracy en el testing de 0.6710072769054002\n"
     ]
    }
   ],
   "source": [
    "#%%time\n",
    "#modelsNamesDT3 = ['DT D3 '+ i for i in ('3CV','5CV','10CV','LOOCV')]\n",
    "#modelsDT3 = [dt3_3cv, dt3_5cv, dt3_10cv, dt3_loocv]\n",
    "modelsNamesDT3 = ['DT D3 '+ i for i in ('3CV','5CV','10CV')]\n",
    "modelsDT3 = [dt3_3cv, dt3_5cv, dt3_10cv]\n",
    "bestModelDT3, namebestModelDT3, bestModelDT3scoretrain, bestModelDT3scoretest = selectBestModel(modelsDT3,modelsNamesDT3, train_features3, test_features3, train_labels3, test_labels3)\n",
    "print(\"El mejor es {} con un accuracy en el training de {} y con un accuracy en el testing de {}\".format(namebestModelDT3,bestModelDT3scoretrain, bestModelDT3scoretest))"
   ]
  },
  {
   "cell_type": "code",
   "execution_count": 19,
   "id": "fbde8eac",
   "metadata": {},
   "outputs": [],
   "source": [
    "#%%time\n",
    "svm1_3cv = modelling('SVMlinear',3,15,train_features1, test_features1, train_labels1, test_labels1)\n",
    "svm1_5cv = modelling('SVMlinear',5,15,train_features1, test_features1, train_labels1, test_labels1)\n",
    "svm1_10cv = modelling('SVMlinear',10,15,train_features1, test_features1, train_labels1, test_labels1)\n",
    "#svm1_loocv = modelling('SVM',LeaveOneOut(),15,train_features1, test_features1, train_labels1, test_labels1)"
   ]
  },
  {
   "cell_type": "code",
   "execution_count": 20,
   "id": "0b249f15",
   "metadata": {},
   "outputs": [
    {
     "name": "stdout",
     "output_type": "stream",
     "text": [
      "El mejor es SVM D1 3CV con un accuracy en el training de 0.6548958582714867 y con un accuracy en el testing de 0.6692197223551939\n"
     ]
    }
   ],
   "source": [
    "#%%time\n",
    "#modelsNamesSVM1 = ['SVM D1 '+ i for i in ('3CV','5CV','10CV','LOOCV')]\n",
    "#modelsSVM1 = [svm1_3cv, svm1_5cv, svm1_10cv, svm1_loocv]\n",
    "modelsNamesSVM1 = ['SVM D1 '+ i for i in ('3CV','5CV','10CV')]\n",
    "modelsSVM1 = [svm1_3cv, svm1_5cv, svm1_10cv]\n",
    "bestModelSVM1, namebestModelSVM1, bestModelSVM1scoretrain, bestModelSVM1scoretest = selectBestModel(modelsSVM1,modelsNamesSVM1, train_features1, test_features1, train_labels1, test_labels1)\n",
    "print(\"El mejor es {} con un accuracy en el training de {} y con un accuracy en el testing de {}\".format(namebestModelSVM1,bestModelSVM1scoretrain, bestModelSVM1scoretest))"
   ]
  },
  {
   "cell_type": "code",
   "execution_count": 21,
   "id": "63a46e41",
   "metadata": {},
   "outputs": [],
   "source": [
    "#%%time\n",
    "svm2_3cv = modelling('SVMlinear',3,15,train_features2, test_features2, train_labels2, test_labels2)\n",
    "svm2_5cv = modelling('SVMlinear',5,15,train_features2, test_features2, train_labels2, test_labels2)\n",
    "svm2_10cv = modelling('SVMlinear',10,15,train_features2, test_features2, train_labels2, test_labels2)\n",
    "#svm2_loocv = modelling('SVM',LeaveOneOut(),15,train_features2, test_features2, train_labels2, test_labels2)"
   ]
  },
  {
   "cell_type": "code",
   "execution_count": 22,
   "id": "f30061ec",
   "metadata": {},
   "outputs": [
    {
     "name": "stdout",
     "output_type": "stream",
     "text": [
      "El mejor es SVM D2 3CV con un accuracy en el training de 0.6518467852257182 y con un accuracy en el testing de 0.6715608043408873\n"
     ]
    }
   ],
   "source": [
    "#%%time\n",
    "#modelsNamesSVM2 = ['SVM D2 '+ i for i in ('3CV','5CV','10CV','LOOCV')]\n",
    "#modelsSVM2 = [svm2_3cv, svm2_5cv, svm2_10cv, svm2_loocv]\n",
    "modelsNamesSVM2 = ['SVM D2 '+ i for i in ('3CV','5CV','10CV')]\n",
    "modelsSVM2 = [svm2_3cv, svm2_5cv, svm2_10cv]\n",
    "bestModelSVM2, namebestModelSVM2, bestModelSVM2scoretrain, bestModelSVM2scoretest = selectBestModel(modelsSVM2,modelsNamesSVM2, train_features2, test_features2, train_labels2, test_labels2)\n",
    "print(\"El mejor es {} con un accuracy en el training de {} y con un accuracy en el testing de {}\".format(namebestModelSVM2,bestModelSVM2scoretrain, bestModelSVM2scoretest))"
   ]
  },
  {
   "cell_type": "code",
   "execution_count": 23,
   "id": "3b024e2e",
   "metadata": {},
   "outputs": [],
   "source": [
    "#%%time\n",
    "svm3_3cv = modelling('SVMlinear',3,15,train_features3, test_features3, train_labels3, test_labels3)\n",
    "svm3_5cv = modelling('SVMlinear',5,15,train_features3, test_features3, train_labels3, test_labels3)\n",
    "svm3_10cv = modelling('SVMlinear',10,15,train_features3, test_features3, train_labels3, test_labels3)\n",
    "#svm3_loocv = modelling('SVM',LeaveOneOut(),15,train_features3, test_features3, train_labels3, test_labels3)"
   ]
  },
  {
   "cell_type": "code",
   "execution_count": 24,
   "id": "66f87b4e",
   "metadata": {},
   "outputs": [
    {
     "name": "stdout",
     "output_type": "stream",
     "text": [
      "El mejor es SVM D3 3CV con un accuracy en el training de 0.6533452502553626 y con un accuracy en el testing de 0.6710072769054002\n"
     ]
    }
   ],
   "source": [
    "#%%time\n",
    "#modelsNamesSVM3 = ['SVM D3 '+ i for i in ('3CV','5CV','10CV','LOOCV')]\n",
    "#modelsSVM3 = [svm3_3cv, svm3_5cv, svm3_10cv, svm3_loocv]\n",
    "modelsNamesSVM3 = ['SVM D3 '+ i for i in ('3CV','5CV','10CV')]\n",
    "modelsSVM3 = [svm3_3cv, svm3_5cv, svm3_10cv]\n",
    "bestModelSVM3, namebestModelSVM3, bestModelSVM3scoretrain, bestModelSVM3scoretest = selectBestModel(modelsSVM3,modelsNamesSVM3, train_features3, test_features3, train_labels3, test_labels3)\n",
    "print(\"El mejor es {} con un accuracy en el training de {} y con un accuracy en el testing de {}\".format(namebestModelSVM3,bestModelSVM3scoretrain, bestModelSVM3scoretest))"
   ]
  }
 ],
 "metadata": {
  "kernelspec": {
   "display_name": "Python 3 (ipykernel)",
   "language": "python",
   "name": "python3"
  },
  "language_info": {
   "codemirror_mode": {
    "name": "ipython",
    "version": 3
   },
   "file_extension": ".py",
   "mimetype": "text/x-python",
   "name": "python",
   "nbconvert_exporter": "python",
   "pygments_lexer": "ipython3",
   "version": "3.9.7"
  }
 },
 "nbformat": 4,
 "nbformat_minor": 5
}
